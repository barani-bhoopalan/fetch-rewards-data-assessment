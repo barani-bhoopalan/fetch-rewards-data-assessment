{
  "nbformat": 4,
  "nbformat_minor": 0,
  "metadata": {
    "colab": {
      "provenance": [],
      "toc_visible": true,
      "authorship_tag": "ABX9TyNwVuJUFyBWqs1xLSkVX9kF",
      "include_colab_link": true
    },
    "kernelspec": {
      "name": "python3",
      "display_name": "Python 3"
    },
    "language_info": {
      "name": "python"
    }
  },
  "cells": [
    {
      "cell_type": "markdown",
      "metadata": {
        "id": "view-in-github",
        "colab_type": "text"
      },
      "source": [
        "<a href=\"https://colab.research.google.com/github/barani-bhoopalan/fetch-rewards-data-assessment/blob/fetch-data-analysis-v1/Fetch_Assessment.ipynb\" target=\"_parent\"><img src=\"https://colab.research.google.com/assets/colab-badge.svg\" alt=\"Open In Colab\"/></a>"
      ]
    },
    {
      "cell_type": "markdown",
      "source": [
        "# **FETCH ASSESSMENT**"
      ],
      "metadata": {
        "id": "R8P41OG4WO9X"
      }
    },
    {
      "cell_type": "markdown",
      "source": [
        "## **A. DATA EXPLORATION**"
      ],
      "metadata": {
        "id": "qNLlfg98ruNq"
      }
    },
    {
      "cell_type": "markdown",
      "source": [
        "Importing Libraries"
      ],
      "metadata": {
        "id": "1A5wQ2jOuSA7"
      }
    },
    {
      "cell_type": "code",
      "source": [
        "import pandas as pd\n",
        "from datetime import datetime\n",
        "import matplotlib.pyplot as plt\n",
        "import seaborn as sns"
      ],
      "metadata": {
        "id": "bslQtWQPbukB"
      },
      "execution_count": 1,
      "outputs": []
    },
    {
      "cell_type": "markdown",
      "source": [
        "Loading Datasets"
      ],
      "metadata": {
        "id": "R1E3cPu7ueCU"
      }
    },
    {
      "cell_type": "code",
      "source": [
        "# Loading product, transaction, and user datasets from CSV files into Pandas DataFrames\n",
        "prod_df = pd.read_csv(\"PRODUCTS_TAKEHOME.csv\")  # Load product data\n",
        "trans_df = pd.read_csv(\"TRANSACTION_TAKEHOME.csv\")  # Load transaction data\n",
        "user_df = pd.read_csv(\"USER_TAKEHOME.csv\")  # Load user data"
      ],
      "metadata": {
        "id": "XiCPlvFwa-kT"
      },
      "execution_count": 2,
      "outputs": []
    },
    {
      "cell_type": "markdown",
      "source": [
        "Data Overview"
      ],
      "metadata": {
        "id": "grbp2AxpulMX"
      }
    },
    {
      "cell_type": "code",
      "source": [
        "# Display the first few rows of each DataFrame\n",
        "print(prod_df.head())\n",
        "print(trans_df.head())\n",
        "print(user_df.head())\n",
        "\n",
        "# Get the shape of each dataset (number of rows and columns)\n",
        "print(prod_df.shape)\n",
        "print(trans_df.shape)\n",
        "print(user_df.shape)\n",
        "\n",
        "# Get the column names for each DataFrame\n",
        "print(prod_df.columns)\n",
        "print(trans_df.columns)\n",
        "print(user_df.columns)\n",
        "\n",
        "# Check the data types of each column in the DataFrames\n",
        "print(prod_df.dtypes)\n",
        "print(trans_df.dtypes)\n",
        "print(user_df.dtypes)"
      ],
      "metadata": {
        "colab": {
          "base_uri": "https://localhost:8080/"
        },
        "id": "JkdBoITnsz2w",
        "outputId": "e0928b48-fb12-45b8-91e3-dfa21d70a848"
      },
      "execution_count": 3,
      "outputs": [
        {
          "output_type": "stream",
          "name": "stdout",
          "text": [
            "          CATEGORY_1              CATEGORY_2                   CATEGORY_3  \\\n",
            "0  Health & Wellness           Sexual Health  Conductivity Gels & Lotions   \n",
            "1             Snacks           Puffed Snacks         Cheese Curls & Puffs   \n",
            "2  Health & Wellness               Hair Care        Hair Care Accessories   \n",
            "3  Health & Wellness               Oral Care                   Toothpaste   \n",
            "4  Health & Wellness  Medicines & Treatments               Essential Oils   \n",
            "\n",
            "  CATEGORY_4                                       MANUFACTURER  \\\n",
            "0        NaN                                                NaN   \n",
            "1        NaN                                                NaN   \n",
            "2        NaN                           PLACEHOLDER MANUFACTURER   \n",
            "3        NaN                                  COLGATE-PALMOLIVE   \n",
            "4        NaN  MAPLE HOLISTICS AND HONEYDEW PRODUCTS INTERCHA...   \n",
            "\n",
            "             BRAND       BARCODE  \n",
            "0              NaN  7.964944e+11  \n",
            "1              NaN  2.327801e+10  \n",
            "2          ELECSOP  4.618178e+11  \n",
            "3          COLGATE  3.500047e+10  \n",
            "4  MAPLE HOLISTICS  8.068109e+11  \n",
            "                             RECEIPT_ID PURCHASE_DATE  \\\n",
            "0  0000d256-4041-4a3e-adc4-5623fb6e0c99    2024-08-21   \n",
            "1  0001455d-7a92-4a7b-a1d2-c747af1c8fd3    2024-07-20   \n",
            "2  00017e0a-7851-42fb-bfab-0baa96e23586    2024-08-18   \n",
            "3  000239aa-3478-453d-801e-66a82e39c8af    2024-06-18   \n",
            "4  00026b4c-dfe8-49dd-b026-4c2f0fd5c6a1    2024-07-04   \n",
            "\n",
            "                   SCAN_DATE STORE_NAME                   USER_ID  \\\n",
            "0  2024-08-21 14:19:06.539 Z    WALMART  63b73a7f3d310dceeabd4758   \n",
            "1  2024-07-20 09:50:24.206 Z       ALDI  62c08877baa38d1a1f6c211a   \n",
            "2  2024-08-19 15:38:56.813 Z    WALMART  60842f207ac8b7729e472020   \n",
            "3  2024-06-19 11:03:37.468 Z  FOOD LION  63fcd7cea4f8442c3386b589   \n",
            "4  2024-07-05 15:56:43.549 Z   RANDALLS  6193231ae9b3d75037b0f928   \n",
            "\n",
            "        BARCODE FINAL_QUANTITY FINAL_SALE  \n",
            "0  1.530001e+10           1.00             \n",
            "1           NaN           zero       1.49  \n",
            "2  7.874223e+10           1.00             \n",
            "3  7.833997e+11           zero       3.49  \n",
            "4  4.790050e+10           1.00             \n",
            "                         ID               CREATED_DATE  \\\n",
            "0  5ef3b4f17053ab141787697d  2020-06-24 20:17:54.000 Z   \n",
            "1  5ff220d383fcfc12622b96bc  2021-01-03 19:53:55.000 Z   \n",
            "2  6477950aa55bb77a0e27ee10  2023-05-31 18:42:18.000 Z   \n",
            "3  658a306e99b40f103b63ccf8  2023-12-26 01:46:22.000 Z   \n",
            "4  653cf5d6a225ea102b7ecdc2  2023-10-28 11:51:50.000 Z   \n",
            "\n",
            "                  BIRTH_DATE STATE LANGUAGE  GENDER  \n",
            "0  2000-08-11 00:00:00.000 Z    CA   es-419  female  \n",
            "1  2001-09-24 04:00:00.000 Z    PA       en  female  \n",
            "2  1994-10-28 00:00:00.000 Z    FL   es-419  female  \n",
            "3                        NaN    NC       en     NaN  \n",
            "4  1972-03-19 00:00:00.000 Z    PA       en  female  \n",
            "(845552, 7)\n",
            "(50000, 8)\n",
            "(100000, 6)\n",
            "Index(['CATEGORY_1', 'CATEGORY_2', 'CATEGORY_3', 'CATEGORY_4', 'MANUFACTURER',\n",
            "       'BRAND', 'BARCODE'],\n",
            "      dtype='object')\n",
            "Index(['RECEIPT_ID', 'PURCHASE_DATE', 'SCAN_DATE', 'STORE_NAME', 'USER_ID',\n",
            "       'BARCODE', 'FINAL_QUANTITY', 'FINAL_SALE'],\n",
            "      dtype='object')\n",
            "Index(['ID', 'CREATED_DATE', 'BIRTH_DATE', 'STATE', 'LANGUAGE', 'GENDER'], dtype='object')\n",
            "CATEGORY_1       object\n",
            "CATEGORY_2       object\n",
            "CATEGORY_3       object\n",
            "CATEGORY_4       object\n",
            "MANUFACTURER     object\n",
            "BRAND            object\n",
            "BARCODE         float64\n",
            "dtype: object\n",
            "RECEIPT_ID         object\n",
            "PURCHASE_DATE      object\n",
            "SCAN_DATE          object\n",
            "STORE_NAME         object\n",
            "USER_ID            object\n",
            "BARCODE           float64\n",
            "FINAL_QUANTITY     object\n",
            "FINAL_SALE         object\n",
            "dtype: object\n",
            "ID              object\n",
            "CREATED_DATE    object\n",
            "BIRTH_DATE      object\n",
            "STATE           object\n",
            "LANGUAGE        object\n",
            "GENDER          object\n",
            "dtype: object\n"
          ]
        }
      ]
    },
    {
      "cell_type": "markdown",
      "source": [
        "Data Quality Check"
      ],
      "metadata": {
        "id": "uGIApPLmQU8g"
      }
    },
    {
      "cell_type": "code",
      "source": [
        "# Check for missing values in each DataFrame\n",
        "print(prod_df.isnull().sum())\n",
        "print(trans_df.isnull().sum())\n",
        "print(user_df.isnull().sum())\n",
        "\n",
        "# Check for duplicate rows in each DataFrame\n",
        "print(prod_df.duplicated().sum())\n",
        "print(trans_df.duplicated().sum())\n",
        "print(user_df.duplicated().sum())"
      ],
      "metadata": {
        "colab": {
          "base_uri": "https://localhost:8080/"
        },
        "id": "XDu78i95QYgP",
        "outputId": "e5e3ba3c-77fa-4bab-e782-d26b848dc8c2"
      },
      "execution_count": 4,
      "outputs": [
        {
          "output_type": "stream",
          "name": "stdout",
          "text": [
            "CATEGORY_1         111\n",
            "CATEGORY_2        1424\n",
            "CATEGORY_3       60566\n",
            "CATEGORY_4      778093\n",
            "MANUFACTURER    226474\n",
            "BRAND           226472\n",
            "BARCODE           4025\n",
            "dtype: int64\n",
            "RECEIPT_ID           0\n",
            "PURCHASE_DATE        0\n",
            "SCAN_DATE            0\n",
            "STORE_NAME           0\n",
            "USER_ID              0\n",
            "BARCODE           5762\n",
            "FINAL_QUANTITY       0\n",
            "FINAL_SALE           0\n",
            "dtype: int64\n",
            "ID                  0\n",
            "CREATED_DATE        0\n",
            "BIRTH_DATE       3675\n",
            "STATE            4812\n",
            "LANGUAGE        30508\n",
            "GENDER           5892\n",
            "dtype: int64\n",
            "215\n",
            "171\n",
            "0\n"
          ]
        }
      ]
    },
    {
      "cell_type": "markdown",
      "source": [
        "## **B. DATA PREPROCESSING**"
      ],
      "metadata": {
        "id": "bQYLvxeX_mHE"
      }
    },
    {
      "cell_type": "markdown",
      "source": [
        "Data Preprocessing – Create 'AGE' field and remove records with AGE > 100"
      ],
      "metadata": {
        "id": "X0LcwwCuSezF"
      }
    },
    {
      "cell_type": "code",
      "source": [
        "# Get the total number of rows in the user DataFrame\n",
        "user_totrows = len(user_df)\n",
        "\n",
        "# Create a summary DataFrame with column-wise null and non-null counts for the \"BIRTH_DATE\" column in the user DataFrame\n",
        "null_summary_birthdate = pd.DataFrame({\n",
        "    'DataFrame': ['user_df'],\n",
        "    'Total': [user_totrows],\n",
        "    'NULL Count': [user_df['BIRTH_DATE'].isnull().sum()],\n",
        "    'NOT NULL Count': [user_df['BIRTH_DATE'].notnull().sum()],\n",
        "    '% of NULL': [round((user_df['BIRTH_DATE'].isnull().sum() / user_totrows) * 100, 2)]\n",
        "})\n",
        "\n",
        "print(null_summary_birthdate)\n",
        "\n",
        "# Ensure the \"BIRTH_DATE\" column is in datetime format\n",
        "user_df['BIRTH_DATE'] = pd.to_datetime(user_df['BIRTH_DATE'], errors='coerce')\n",
        "\n",
        "# Remove the timezone from the \"BIRTH_DATE\" column if present\n",
        "user_df['BIRTH_DATE'] = user_df['BIRTH_DATE'].dt.tz_localize(None)\n",
        "\n",
        "# Ensure 'today' is timezone-free\n",
        "today = pd.to_datetime('today').normalize()\n",
        "\n",
        "# Calculate the \"AGE\" based on \"BIRTH_DATE\", setting \"AGE\" to -1 if \"BIRTH_DATE\" is invalid\n",
        "user_df['AGE'] = user_df['BIRTH_DATE'].apply(\n",
        "    lambda x: (today - x).days // 365 if pd.notna(x) else -1)\n",
        "\n",
        "# Print unique values in the \"AGE\" column\n",
        "print(user_df['AGE'].unique())\n"
      ],
      "metadata": {
        "colab": {
          "base_uri": "https://localhost:8080/"
        },
        "id": "_z-BRzSIUqqu",
        "outputId": "770710a8-aaa1-45df-d03e-69588087a2e9"
      },
      "execution_count": 5,
      "outputs": [
        {
          "output_type": "stream",
          "name": "stdout",
          "text": [
            "  DataFrame   Total  NULL Count  NOT NULL Count  % of NULL\n",
            "0   user_df  100000        3675           96325       3.68\n",
            "[ 24  23  30  -1  52  25  41  55  42  32  43  21  26  39  27  22  69  59\n",
            "  63  33  38  66  45  37  18  47  68  49  54  28  19  35  20  70  57  46\n",
            "  36  15  40  62  44  29  31  51  53  34  17  64  48  50  76  56  58  77\n",
            "  82  74  75  60  73  86  16  67  78  65  14  61  72  95  83  79  71  85\n",
            "  12  87  13  98  91  80  94 122  93  89  81 101  88 123  84 102   9  10\n",
            " 120 119 106 124 105 118  11  92   4  96   8  90   6 113 107 104 103 116\n",
            " 100   2 114 115  97   7 109 125 121  99   3 110 117]\n"
          ]
        }
      ]
    },
    {
      "cell_type": "code",
      "source": [
        "# Filter rows where AGE is greater than 100\n",
        "age_above_100 = user_df[user_df['AGE'] > 100]\n",
        "\n",
        "# Print the count of rows where AGE > 100 and their percentage of the total dataset\n",
        "print(f\"There are {len(age_above_100)} rows with AGE > 100, which is {round(len(age_above_100) / len(user_df) * 100, 2)}% of the dataset.\")\n",
        "\n",
        "# Remove rows where AGE is greater than 100\n",
        "user_df = user_df[user_df['AGE'] <= 100]\n"
      ],
      "metadata": {
        "colab": {
          "base_uri": "https://localhost:8080/"
        },
        "id": "fCug2jAhe0uW",
        "outputId": "c5ea2ca9-af53-46ed-b9c2-3713dc5d2b2c"
      },
      "execution_count": 6,
      "outputs": [
        {
          "output_type": "stream",
          "name": "stdout",
          "text": [
            "There are 61 rows with AGE > 100, which is 0.06% of the dataset.\n"
          ]
        }
      ]
    },
    {
      "cell_type": "markdown",
      "source": [
        "Data Preprocessing – Adjust Data Types and Remove Duplicates"
      ],
      "metadata": {
        "id": "TwDwEVzIBTXZ"
      }
    },
    {
      "cell_type": "code",
      "source": [
        "# Check if there is a dropdown to select stores and view unique values\n",
        "# Print(trans_df['STORE_NAME'].unique())\n",
        "\n",
        "# Change data type of \"BARCODE\" field to string (for both Product and Transaction datasets) to avoid scientific notation\n",
        "prod_df['BARCODE'] = prod_df['BARCODE'].astype(str)\n",
        "trans_df['BARCODE'] = trans_df['BARCODE'].astype(str)\n",
        "\n",
        "# For consistency, convert date fields to datetime format in both Transaction and User datasets\n",
        "trans_df['PURCHASE_DATE'] = pd.to_datetime(trans_df['PURCHASE_DATE']).dt.date\n",
        "trans_df['SCAN_DATE'] = pd.to_datetime(trans_df['SCAN_DATE']).dt.date\n",
        "user_df['CREATED_DATE'] = pd.to_datetime(user_df['CREATED_DATE']).dt.date\n",
        "user_df['BIRTH_DATE'] = pd.to_datetime(user_df['BIRTH_DATE']).dt.date\n",
        "\n",
        "# Remove redundant records from both the Transaction (215 records) and User (171 records) datasets\n",
        "trans_df = trans_df.drop_duplicates()\n",
        "user_df = user_df.drop_duplicates()\n"
      ],
      "metadata": {
        "id": "CdOfkeWa2In7"
      },
      "execution_count": 7,
      "outputs": []
    },
    {
      "cell_type": "markdown",
      "source": [
        "Data Preprocessing – Remove Records with Scan Date Earlier than Purchase Date"
      ],
      "metadata": {
        "id": "DwiG97TmPXBk"
      }
    },
    {
      "cell_type": "code",
      "source": [
        "# Confirm that receipts are scanned for rewards only after the purchase\n",
        "# Print the count of records where SCAN_DATE is earlier than PURCHASE_DATE\n",
        "print((trans_df['SCAN_DATE'] < trans_df['PURCHASE_DATE']).sum())\n",
        "\n",
        "# Filter out records where SCAN_DATE is earlier than PURCHASE_DATE\n",
        "trans_df = trans_df[trans_df['SCAN_DATE'] >= trans_df['PURCHASE_DATE']]"
      ],
      "metadata": {
        "colab": {
          "base_uri": "https://localhost:8080/"
        },
        "id": "W9oDEm1YPUqA",
        "outputId": "1b1942ed-4642-4647-f4ad-8fdd8d384e4e"
      },
      "execution_count": 8,
      "outputs": [
        {
          "output_type": "stream",
          "name": "stdout",
          "text": [
            "94\n"
          ]
        }
      ]
    },
    {
      "cell_type": "markdown",
      "source": [
        "Data Preprocessing – Verifying Missing BARCODE Records"
      ],
      "metadata": {
        "id": "HrxFQ-r7P7W5"
      }
    },
    {
      "cell_type": "code",
      "source": [
        "# Get the total number of rows for product and transaction DataFrames\n",
        "prod_totrows = len(prod_df)\n",
        "trans_totrows = len(trans_df)\n",
        "\n",
        "# Create a DataFrame with column-wise null and non-null counts for the \"BARCODE\" column in both product and transaction datasets\n",
        "null_summary = pd.DataFrame({\n",
        "    'DataFrame': ['prod_df', 'trans_df'],\n",
        "    'Total': [prod_totrows, trans_totrows],\n",
        "    'NULL Count': [prod_df['BARCODE'].isnull().sum(), trans_df['BARCODE'].isnull().sum()],\n",
        "    'NOT NULL Count': [prod_df['BARCODE'].notnull().sum(), trans_df['BARCODE'].notnull().sum()],\n",
        "    '% of NULL': [round((prod_df['BARCODE'].isnull().sum() / prod_totrows) * 100, 2),\n",
        "                  round((trans_df['BARCODE'].isnull().sum() / trans_totrows) * 100, 2)]\n",
        "})\n",
        "\n",
        "# Print the summary of null counts for BARCODE\n",
        "print(null_summary)\n"
      ],
      "metadata": {
        "colab": {
          "base_uri": "https://localhost:8080/"
        },
        "id": "9pbLiO7k8y9x",
        "outputId": "154320dd-f308-483a-8814-bc04cce9c277"
      },
      "execution_count": 9,
      "outputs": [
        {
          "output_type": "stream",
          "name": "stdout",
          "text": [
            "  DataFrame   Total  NULL Count  NOT NULL Count  % of NULL\n",
            "0   prod_df  845552           0          845552        0.0\n",
            "1  trans_df   49735           0           49735        0.0\n"
          ]
        }
      ]
    },
    {
      "cell_type": "markdown",
      "source": [
        "Data Preprocessing – Standardizing Gender field"
      ],
      "metadata": {
        "id": "gUK_KdGiQLIK"
      }
    },
    {
      "cell_type": "code",
      "source": [
        "# Create a function to standardize the 'GENDER' field in the User dataset\n",
        "def gender_standardize(value):\n",
        "    if pd.isna(value) or value == '':\n",
        "        return 'UNKNOWN'\n",
        "\n",
        "    value = str(value).lower()\n",
        "    if value in ['m', 'male']:\n",
        "        return 'MALE'\n",
        "    elif value in ['f', 'female']:\n",
        "        return 'FEMALE'\n",
        "    else:\n",
        "        return 'OTHER'\n",
        "\n",
        "# Apply the function to standardize the 'GENDER' field in the User dataset\n",
        "user_df['GENDER'] = user_df['GENDER'].apply(gender_standardize)\n",
        "\n",
        "# Print the unique values in the 'GENDER' field\n",
        "# Print(user_df['GENDER'].unique())\n",
        "\n",
        "# Check the number of missing values in the 'GENDER' field\n",
        "# Print(user_df['GENDER'].isnull().sum())\n"
      ],
      "metadata": {
        "id": "wHT94cE0Mc3d"
      },
      "execution_count": 10,
      "outputs": []
    },
    {
      "cell_type": "markdown",
      "source": [
        "Data Preprocessing – Standardizing State field"
      ],
      "metadata": {
        "id": "UAILJhkVQP0h"
      }
    },
    {
      "cell_type": "code",
      "source": [
        "# Create a function to standardize the 'STATE' field in the User dataset\n",
        "def state_standardize(value):\n",
        "    if pd.isna(value) or value == '':\n",
        "        return 'UNKNOWN'\n",
        "    else:\n",
        "        return value\n",
        "\n",
        "# Apply the function to standardize the 'STATE' field in the User dataset\n",
        "user_df['STATE'] = user_df['STATE'].apply(state_standardize)\n",
        "\n",
        "# Print the unique values in the 'STATE' field\n",
        "print(user_df['STATE'].unique())\n",
        "\n",
        "# Check the number of missing values in the 'STATE' field\n",
        "print(user_df['STATE'].isnull().sum())\n"
      ],
      "metadata": {
        "colab": {
          "base_uri": "https://localhost:8080/"
        },
        "id": "35vQ_xKRGl63",
        "outputId": "7d6cff73-acb5-4c98-ff8e-3f4b3996e218"
      },
      "execution_count": 11,
      "outputs": [
        {
          "output_type": "stream",
          "name": "stdout",
          "text": [
            "['CA' 'PA' 'FL' 'NC' 'NY' 'IN' 'UNKNOWN' 'OH' 'TX' 'NM' 'PR' 'CO' 'AZ'\n",
            " 'RI' 'MO' 'NJ' 'MA' 'TN' 'LA' 'NH' 'WI' 'IA' 'GA' 'VA' 'DC' 'KY' 'SC'\n",
            " 'MN' 'WV' 'DE' 'MI' 'IL' 'MS' 'WA' 'KS' 'CT' 'OR' 'UT' 'MD' 'OK' 'NE'\n",
            " 'NV' 'AL' 'AK' 'AR' 'HI' 'ME' 'ND' 'ID' 'WY' 'MT' 'SD' 'VT']\n",
            "0\n"
          ]
        }
      ]
    },
    {
      "cell_type": "markdown",
      "source": [
        "Data Preprocessing – Convert Non-Numeric Values in FINAL_QUANTITY to 0"
      ],
      "metadata": {
        "id": "z6CA72e2ivJy"
      }
    },
    {
      "cell_type": "code",
      "source": [
        "# Convert 'FINAL_QUANTITY' and 'FINAL_SALE' to numeric, handling non-numeric and empty values\n",
        "trans_df['FINAL_QUANTITY'] = round(pd.to_numeric(trans_df['FINAL_QUANTITY'], errors='coerce'), 2)\n",
        "trans_df['FINAL_SALE'] = round(pd.to_numeric(trans_df['FINAL_SALE'], errors='coerce'), 2)\n",
        "\n",
        "# Replace NaN values (previously non-numeric) with 0\n",
        "trans_df['FINAL_QUANTITY'] = trans_df['FINAL_QUANTITY'].fillna(0)\n",
        "trans_df['FINAL_SALE'] = trans_df['FINAL_SALE'].fillna(0)\n",
        "\n",
        "# Verify the unique values in 'FINAL_QUANTITY' and 'FINAL_SALE'\n",
        "#print(trans_df['FINAL_QUANTITY'].unique())\n",
        "#print(trans_df['FINAL_SALE'].unique())\n"
      ],
      "metadata": {
        "id": "oQAIeALJixKA"
      },
      "execution_count": 12,
      "outputs": []
    },
    {
      "cell_type": "markdown",
      "source": [
        "## **C. SQL Questions**"
      ],
      "metadata": {
        "id": "Uw9Xxm2ZQ_xK"
      }
    },
    {
      "cell_type": "markdown",
      "source": [
        "**1. What are the top 5 brands by receipts scanned among users 21 and over?**\n",
        "\n",
        "  SQL - This Query helps identify the most popular brands among the users based on actual purchase data.\n",
        "  Query starts by counting how many times each brand appears in the transaction data. It then ranks the brands using DENSE_RANK.\n",
        "  Finally, it filters the results to show only the top 5 brands with the highest receipt counts.\n",
        "\n",
        "        WITH CTE AS (\n",
        "          SELECT\n",
        "              p.BRAND,\n",
        "              COUNT(t.RECEIPT_ID) AS receipt_count,\n",
        "              DENSE_RANK() OVER (ORDER BY COUNT(t.RECEIPT_ID) DESC) AS rank\n",
        "          FROM TRANSACTION_TAKEHOME t\n",
        "          JOIN PRODUCTS_TAKEHOME p ON t.BARCODE = p.BARCODE\n",
        "          JOIN USER_TAKEHOME u ON t.USER_ID = u.ID\n",
        "          WHERE u.AGE >= 21\n",
        "          GROUP BY p.BRAND\n",
        "        )\n",
        "        SELECT BRAND, receipt_count, rank\n",
        "        FROM CTE\n",
        "        WHERE rank <= 5;\n",
        "\n",
        "\n"
      ],
      "metadata": {
        "id": "_qqp8hcjRKgB"
      }
    },
    {
      "cell_type": "code",
      "source": [
        "# Merge datasets\n",
        "merged_df = (trans_df\n",
        "             .merge(prod_df, on='BARCODE', how='inner')\n",
        "             .merge(user_df, left_on='USER_ID', right_on='ID', how='inner'))\n",
        "\n",
        "# Filter users aged 21 and above\n",
        "filtered_df = merged_df[merged_df['AGE'] >= 21]\n",
        "\n",
        "# Count purchases per brand\n",
        "brand_counts = filtered_df.groupby('BRAND')['RECEIPT_ID'].count().reset_index()\n",
        "\n",
        "# Rename columns\n",
        "brand_counts.columns = ['BRAND', 'RECEIPT_COUNT']\n",
        "\n",
        "# Rank brands using dense rank\n",
        "brand_counts['RANK'] = brand_counts['RECEIPT_COUNT'].rank(method='dense', ascending=False)\n",
        "\n",
        "# Get top 5 brands\n",
        "top_5_brands = brand_counts[brand_counts['RANK'] <= 5].sort_values(by='RANK').reset_index(drop=True)\n",
        "\n",
        "print(top_5_brands)"
      ],
      "metadata": {
        "colab": {
          "base_uri": "https://localhost:8080/"
        },
        "id": "6_PTs7w3IBCE",
        "outputId": "a817ee47-3bc5-4c75-bc51-36221f6bb69b"
      },
      "execution_count": 13,
      "outputs": [
        {
          "output_type": "stream",
          "name": "stdout",
          "text": [
            "                       BRAND  RECEIPT_COUNT  RANK\n",
            "0                  COCA-COLA            602   1.0\n",
            "1  ANNIE'S HOMEGROWN GROCERY            552   2.0\n",
            "2                       DOVE            535   3.0\n",
            "3                   BAREFOOT            529   4.0\n",
            "4                      ORIBE            483   5.0\n"
          ]
        }
      ]
    },
    {
      "cell_type": "markdown",
      "source": [
        "**2. What are the top 5 brands by sales among users who have had their accounts for at least six months?**\n",
        "\n",
        "  SQL - This query identifies the top 5 brands by total sales for users who have had their accounts for at least six months. It calculates the total sales for each brand and ranks them based on the total sales amount.\n",
        "\n",
        "        WITH USER_CTE AS (\n",
        "          SELECT ID\n",
        "          FROM user_takehome\n",
        "          WHERE CREATED_DATE <= DATEADD(MONTH, -6, GETDATE())\n",
        "        ),\n",
        "        SALES_CTE AS (\n",
        "            SELECT\n",
        "                p.BRAND,\n",
        "                SUM(t.FINAL_SALE) AS total_Sales,\n",
        "                DENSE_RANK() OVER (ORDER BY SUM(t.FINAL_SALE) DESC) AS rank\n",
        "            FROM transaction_takehome t\n",
        "            JOIN products_takehome p ON t.BARCODE = p.BARCODE\n",
        "            JOIN USER_CTE u ON t.USER_ID = u.ID\n",
        "            GROUP BY p.BRAND\n",
        "        )\n",
        "        SELECT BRAND, total_Sales\n",
        "        FROM SALES_CTE\n",
        "        WHERE rank <= 5;\n",
        "\n",
        "\n"
      ],
      "metadata": {
        "id": "o6wW-GLwl42I"
      }
    },
    {
      "cell_type": "code",
      "source": [
        "from dateutil.relativedelta import relativedelta\n",
        "#extract exact date 6 months prior\n",
        "six_months_prior = datetime.now() - relativedelta(months=6)\n",
        "# Convert to datetime.datetime\n",
        "user_df['CREATED_DATE'] = pd.to_datetime(user_df['CREATED_DATE'])\n",
        "\n",
        "#filter the dataset to include only records available for over 6 months\n",
        "user_cte_df = user_df[user_df['CREATED_DATE'] <= six_months_prior]\n",
        "\n",
        "# SALES_CTE\n",
        "sales_cte_df1 = trans_df.merge(prod_df, left_on='BARCODE', right_on='BARCODE') \\\n",
        "                                   .merge(user_cte_df, left_on='USER_ID', right_on='ID') \\\n",
        "                                   .groupby('BRAND')['FINAL_SALE'].sum().reset_index()\n",
        "\n",
        "sales_cte_df1 = sales_cte_df1.sort_values(by='FINAL_SALE', ascending=False)\n",
        "sales_cte_df1['rank'] = sales_cte_df1['FINAL_SALE'].rank(method='dense', ascending=False)\n",
        "sales_cte_df1 = sales_cte_df1.rename(columns={'FINAL_SALE': 'total_Sales'})\n",
        "\n",
        "\n",
        "# Result set\n",
        "final_df1 = sales_cte_df1[sales_cte_df1['rank'] <= 5][['BRAND', 'total_Sales']].reset_index(drop=True)\n",
        "\n",
        "print(final_df1)\n",
        "\n",
        "user_df['CREATED_DATE'] = user_df['CREATED_DATE'].dt.date"
      ],
      "metadata": {
        "colab": {
          "base_uri": "https://localhost:8080/"
        },
        "id": "sK-M_HtLnIAW",
        "outputId": "d417648f-3183-4219-c97b-a4b8c4336948"
      },
      "execution_count": 14,
      "outputs": [
        {
          "output_type": "stream",
          "name": "stdout",
          "text": [
            "                       BRAND  total_Sales\n",
            "0                  COCA-COLA      2523.98\n",
            "1  ANNIE'S HOMEGROWN GROCERY      2321.04\n",
            "2                       DOVE      2267.21\n",
            "3                   BAREFOOT      2224.33\n",
            "4                      ORIBE      2030.91\n"
          ]
        }
      ]
    },
    {
      "cell_type": "markdown",
      "source": [
        "**3. Which is the leading brand in the Dips & Salsa category by total sales?**\n",
        "\n",
        "  SQL - This query identifies the leading brand in the Dips & Salsa category based on total sales. It calculates the total sales for each brand within this category and ranks them accordingly.\n",
        "\n",
        "        WITH SALES_CTE AS (\n",
        "            SELECT\n",
        "                p.BRAND,\n",
        "                SUM(t.FINAL_SALE) AS total_Sales,\n",
        "                DENSE_RANK() OVER (ORDER BY SUM(t.FINAL_SALE) DESC) AS rank\n",
        "            FROM transaction_takehome t\n",
        "            JOIN products_takehome p ON t.BARCODE = p.BARCODE\n",
        "            JOIN user_takehome u ON t.USER_ID = u.ID\n",
        "            where p.CATEGORY_2 = 'Dips & Salsa'\n",
        "            GROUP BY p.BRAND\n",
        "        )\n",
        "        SELECT BRAND, total_Sales\n",
        "        FROM SALES_CTE\n",
        "        WHERE rank <= 5;"
      ],
      "metadata": {
        "id": "YyvcUyWdxhTt"
      }
    },
    {
      "cell_type": "code",
      "source": [
        "# SALES_CTE\n",
        "sales_cte_df2 = trans_df.merge(prod_df, left_on='BARCODE', right_on='BARCODE') \\\n",
        "    .merge(user_df, left_on='USER_ID', right_on='ID')\n",
        "\n",
        "# Filter for 'Dips & Salsa' category\n",
        "sales_cte_df2 = sales_cte_df2[sales_cte_df2['CATEGORY_2'] == 'Dips & Salsa']\n",
        "\n",
        "sales_cte_df2 = sales_cte_df2.groupby('BRAND')['FINAL_SALE'].sum().reset_index()\n",
        "\n",
        "sales_cte_df2 = sales_cte_df2.sort_values(by='FINAL_SALE', ascending=False)\n",
        "sales_cte_df2['rank'] = sales_cte_df2['FINAL_SALE'].rank(method='dense', ascending=False)\n",
        "sales_cte_df2 = sales_cte_df2.rename(columns={'FINAL_SALE': 'total_Sales'})\n",
        "\n",
        "# Final result set\n",
        "final_df2 = sales_cte_df2[sales_cte_df2['rank'] <= 5][['BRAND', 'total_Sales']].reset_index(drop=True)\n",
        "\n",
        "print(final_df2)"
      ],
      "metadata": {
        "colab": {
          "base_uri": "https://localhost:8080/"
        },
        "id": "8NceikFRwYNh",
        "outputId": "b157244b-732a-4ea3-e9ef-e2f68f51ede0"
      },
      "execution_count": 15,
      "outputs": [
        {
          "output_type": "stream",
          "name": "stdout",
          "text": [
            "                           BRAND  total_Sales\n",
            "0                       TOSTITOS       483.55\n",
            "1                 FRESH CRAVINGS       386.84\n",
            "2                    OLD EL PASO       386.84\n",
            "3                         FRITOS       386.84\n",
            "4                         HERDEZ       290.13\n",
            "5                        MISSION       290.13\n",
            "6                      LITEHOUSE       290.13\n",
            "7                        ATHENOS       290.13\n",
            "8                     GOOD FOODS       290.13\n",
            "9           GARDEN FRESH GOURMET       290.13\n",
            "10                        WHOLLY       290.13\n",
            "11                         DAISY       290.13\n",
            "12                   BOAR'S HEAD       290.13\n",
            "13                      MARZETTI       199.41\n",
            "14        FOOD SHOULD TASTE GOOD       193.42\n",
            "15                     CHI-CHI'S       193.42\n",
            "16                      VELVEETA       193.42\n",
            "17             BAKER'S CHOCOLATE       193.42\n",
            "18                      SABRITAS       193.42\n",
            "19                       RUFFLES       193.42\n",
            "20                      PANCHO'S       193.42\n",
            "21                          PACE       193.42\n",
            "22                     MUIR GLEN       193.42\n",
            "23                    CHEEZ WHIZ       193.42\n",
            "24                         LAY'S       193.42\n",
            "25                   EASY CHEESE       193.42\n",
            "26                  LAND O LAKES       193.42\n",
            "27  LA VICTORIA MEXICAN PRODUCTS       193.42\n",
            "28           HIDDEN VALLEY RANCH       193.42\n",
            "29                  HELUVA GOOD!       193.42\n",
            "30            GREEN GIANT FROZEN       193.42\n",
            "31                       DORITOS       193.42\n",
            "32                     FRITO-LAY       193.42\n",
            "33                        ARBO'S       193.42\n"
          ]
        }
      ]
    },
    {
      "cell_type": "markdown",
      "source": [
        "**4. What is the percentage of sales in the Health & Wellness category by generation?**\n",
        "\n",
        "  SQL - The query calculates the percentage of total sales for each generation within the Health & Wellness category\n",
        "\n",
        "          WITH USER_CTE AS (\n",
        "          SELECT\n",
        "          u.ID,\n",
        "          CASE\n",
        "              WHEN year(u.BIRTH_DATE) BETWEEN 1946 AND 1964 THEN 'Baby Boomers'\n",
        "              WHEN year(u.BIRTH_DATE) BETWEEN 1965 AND 1980 THEN 'Generation X'\n",
        "              WHEN year(u.BIRTH_DATE) BETWEEN 1981 AND 1996 THEN 'Millennials'\n",
        "              WHEN year(u.BIRTH_DATE) BETWEEN 1997 AND 2012 THEN 'Generation Z'\n",
        "              WHEN year(u.BIRTH_DATE)>= 2013 THEN 'Generation Z'\n",
        "              ELSE 'Unknown'\n",
        "          END AS GENERATION\n",
        "          FROM user_takehome u\n",
        "          ),\n",
        "          SALES_CTE AS (\n",
        "          SELECT\n",
        "          u.GENERATION,\n",
        "          SUM(t.FINAL_SALE) AS total_sales\n",
        "          FROM transaction_takehome t\n",
        "          JOIN products_takehome p ON t.BARCODE = p.BARCODE\n",
        "          JOIN USER_CTE u ON t.USER_ID = u.ID\n",
        "          WHERE p.CATEGORY_1 = 'Health & Wellness'\n",
        "          GROUP BY u.GENERATION\n",
        "          )\n",
        "          SELECT\n",
        "          GENERATION,\n",
        "          total_sales,\n",
        "          (total_sales / (SELECT SUM(total_sales) FROM SALES_CTE) * 100) AS sales_percentage\n",
        "          FROM SALES_CTE;\n",
        "\n"
      ],
      "metadata": {
        "id": "FzfVj48-IBV1"
      }
    },
    {
      "cell_type": "code",
      "source": [
        "# Create a generation column based on birth year (if not already available)\n",
        "def get_generation(birth_year):\n",
        "    if 1901 <= birth_year <= 1927:\n",
        "        return 'The Greatest Generation'\n",
        "    elif 1928 <= birth_year <= 1945:\n",
        "        return 'The Silent Generation'\n",
        "    elif 1946 <= birth_year <= 1964:\n",
        "        return 'Baby Boomers'\n",
        "    elif 1965 <= birth_year <= 1980:\n",
        "        return 'Generation X'\n",
        "    elif 1981 <= birth_year <= 1996:\n",
        "        return 'Millennials (Generation Y)'\n",
        "    elif 1997 <= birth_year <= 2012:\n",
        "        return 'Generation Z'\n",
        "    elif birth_year >= 2013:\n",
        "        return 'Gen Alpha'\n",
        "    else:\n",
        "        return 'Unknown'\n",
        "\n",
        "# Convert to datetime.datetime\n",
        "user_df['BIRTH_DATE'] = pd.to_datetime(user_df['BIRTH_DATE'])\n",
        "user_df['BIRTH_YEAR'] = user_df['BIRTH_DATE'].dt.year\n",
        "user_df['GENERATION'] = user_df['BIRTH_YEAR'].apply(get_generation)\n",
        "\n",
        "# Merge datasets\n",
        "merged_data = trans_df.merge(prod_df, on='BARCODE', how='inner') \\\n",
        "                      .merge(user_df[['ID', 'GENERATION']], left_on='USER_ID', right_on='ID', how='inner')\n",
        "\n",
        "# Filter for Health & Wellness category (CATEGORY_1)\n",
        "health_wellness_data = merged_data[merged_data['CATEGORY_1'] == 'Health & Wellness']\n",
        "\n",
        "# Calculate the total sales in Health & Wellness category\n",
        "sales_by_generation = health_wellness_data.groupby('GENERATION')['FINAL_SALE'].sum().reset_index()\n",
        "\n",
        "# Calculate total sales per generation\n",
        "total_sales = sales_by_generation['FINAL_SALE'].sum()\n",
        "\n",
        "# Calculate the percentage of sales per generation\n",
        "sales_by_generation['sales_percentage'] = (sales_by_generation['FINAL_SALE'] / total_sales) * 100\n",
        "\n",
        "# Display the result\n",
        "print(sales_by_generation[['GENERATION', 'sales_percentage']])\n",
        "user_df['BIRTH_DATE'] = user_df['BIRTH_DATE'].dt.date"
      ],
      "metadata": {
        "colab": {
          "base_uri": "https://localhost:8080/"
        },
        "id": "RMvbmrwbICLv",
        "outputId": "1210bd86-db1f-4b13-ed15-e12ca2f2260d"
      },
      "execution_count": 16,
      "outputs": [
        {
          "output_type": "stream",
          "name": "stdout",
          "text": [
            "                   GENERATION  sales_percentage\n",
            "0                Baby Boomers         27.976009\n",
            "1                Generation X         24.772642\n",
            "2  Millennials (Generation Y)         47.251349\n"
          ]
        }
      ]
    },
    {
      "cell_type": "markdown",
      "source": [
        "## **D. Visualization**"
      ],
      "metadata": {
        "id": "f6rO3r6nDt50"
      }
    },
    {
      "cell_type": "markdown",
      "source": [
        " Top 5 Brands by Receipts Scanned Among Users 21 and Over"
      ],
      "metadata": {
        "id": "TPomidktD6fB"
      }
    },
    {
      "cell_type": "code",
      "source": [
        "# Set the plot size\n",
        "plt.figure(figsize=(10, 6))\n",
        "\n",
        "# Create the barplot\n",
        "sns.barplot(x='RECEIPT_COUNT', y='BRAND', data=top_5_brands)\n",
        "\n",
        "# Add titles and labels\n",
        "plt.title('Top 5 Brands by Receipts Scanned (Users Aged 21 and Over)', fontsize=14)\n",
        "plt.xlabel('Receipts Scanned Count', fontsize=12)\n",
        "plt.ylabel('Brand', fontsize=12)\n",
        "\n",
        "# Show the plot\n",
        "plt.show()"
      ],
      "metadata": {
        "colab": {
          "base_uri": "https://localhost:8080/",
          "height": 569
        },
        "id": "ojglNLwvDu8W",
        "outputId": "1d4bbf37-e0cf-4b75-e894-d6ff0eb66e0c"
      },
      "execution_count": 17,
      "outputs": [
        {
          "output_type": "display_data",
          "data": {
            "text/plain": [
              "<Figure size 1000x600 with 1 Axes>"
            ],
            "image/png": "[encoded data removed]"
          },
          "metadata": {}
        }
      ]
    },
    {
      "cell_type": "markdown",
      "source": [
        "Top 5 Brands by Sales Among Users with Accounts Older Than Six Months"
      ],
      "metadata": {
        "id": "y_hO2zSvD7QJ"
      }
    },
    {
      "cell_type": "code",
      "source": [
        "# Set the plot size\n",
        "plt.figure(figsize=(10, 6))\n",
        "\n",
        "# Create the barplot\n",
        "sns.barplot(x='total_Sales', y='BRAND', data=final_df1)\n",
        "\n",
        "# Add titles and labels\n",
        "plt.title('Top 5 Brands by Sales Among Users with Accounts Older Than Six Months', fontsize=14)\n",
        "plt.xlabel('Total Sales', fontsize=12)\n",
        "plt.ylabel('Brand', fontsize=12)\n",
        "\n",
        "# Show the plot\n",
        "plt.show()"
      ],
      "metadata": {
        "colab": {
          "base_uri": "https://localhost:8080/",
          "height": 569
        },
        "id": "8eruj0o0D5Ob",
        "outputId": "96de1320-d03d-4cd1-9504-9096218ca363"
      },
      "execution_count": 18,
      "outputs": [
        {
          "output_type": "display_data",
          "data": {
            "text/plain": [
              "<Figure size 1000x600 with 1 Axes>"
            ],
            "image/png": "[encoded data removed]"
          },
          "metadata": {}
        }
      ]
    },
    {
      "cell_type": "code",
      "source": [
        "# Plot the pie chart for sales percentage by generation\n",
        "plt.figure(figsize=(8, 8))\n",
        "plt.pie(sales_by_generation['sales_percentage'],\n",
        "        labels=sales_by_generation['GENERATION'],\n",
        "        autopct='%1.1f%%',\n",
        "        startangle=90,\n",
        "        colors=['#ff9999','#66b3ff','#99ff99','#ffcc99','#ffb3e6','#c2c2f0','#ffb3b3'])  # Custom colors\n",
        "\n",
        "# Set the title\n",
        "plt.title('Percentage of Sales in Health & Wellness by Generation')\n",
        "\n",
        "# Display the pie chart\n",
        "plt.axis('equal')  # Equal aspect ratio ensures that pie is drawn as a circle.\n",
        "plt.show()"
      ],
      "metadata": {
        "colab": {
          "base_uri": "https://localhost:8080/",
          "height": 675
        },
        "id": "eUMi3dzoGT9g",
        "outputId": "8f996440-e6ab-416a-a77c-d4130bf768fb"
      },
      "execution_count": 19,
      "outputs": [
        {
          "output_type": "display_data",
          "data": {
            "text/plain": [
              "<Figure size 800x800 with 1 Axes>"
            ],
            "image/png": "[encoded data removed]"
          },
          "metadata": {}
        }
      ]
    },
    {
      "cell_type": "markdown",
      "source": [
        "Receipts Scanned by Gender"
      ],
      "metadata": {
        "id": "n44RA3INgFuM"
      }
    },
    {
      "cell_type": "code",
      "source": [
        "# Merge transaction dataset with user dataset to get gender information\n",
        "trans_user_df = trans_df.merge(user_df[['ID', 'GENDER']], left_on='USER_ID', right_on='ID', how='left')\n",
        "\n",
        "# Count the number of receipts per gender\n",
        "gender_receipt_counts = trans_user_df['GENDER'].value_counts().reset_index()\n",
        "gender_receipt_counts.columns = ['GENDER', 'Receipts Scanned']\n",
        "\n",
        "# Plot the data using a bar chart\n",
        "plt.figure(figsize=(8, 5))\n",
        "sns.barplot(x='GENDER', y='Receipts Scanned', data=gender_receipt_counts)\n",
        "\n",
        "# Customize the plot\n",
        "plt.xlabel('Gender', fontsize=12)\n",
        "plt.ylabel('Number of Receipts Scanned', fontsize=12)\n",
        "plt.title('Receipts Scanned by Gender', fontsize=14)\n",
        "plt.xticks(rotation=45)  # Rotate labels if needed\n",
        "\n",
        "# Show the plot\n",
        "plt.show()"
      ],
      "metadata": {
        "colab": {
          "base_uri": "https://localhost:8080/",
          "height": 648
        },
        "id": "O-jojFRRgGPS",
        "outputId": "cec787fc-7e90-477c-f65b-3a48ae39865c"
      },
      "execution_count": 20,
      "outputs": [
        {
          "output_type": "stream",
          "name": "stderr",
          "text": [
            "<ipython-input-20-29cea7d0273b>:10: FutureWarning: \n",
            "\n",
            "Passing `palette` without assigning `hue` is deprecated and will be removed in v0.14.0. Assign the `x` variable to `hue` and set `legend=False` for the same effect.\n",
            "\n",
            "  sns.barplot(x='GENDER', y='Receipts Scanned', data=gender_receipt_counts, palette='pastel')\n"
          ]
        },
        {
          "output_type": "display_data",
          "data": {
            "text/plain": [
              "<Figure size 800x500 with 1 Axes>"
            ],
            "image/png": "[encoded data removed]"
          },
          "metadata": {}
        }
      ]
    },
    {
      "cell_type": "markdown",
      "source": [
        "## **E. SUMMARY**"
      ],
      "metadata": {
        "id": "A3E1NeLl_9wy"
      }
    },
    {
      "cell_type": "markdown",
      "source": [
        "\n",
        "\n",
        "1. Are there any data quality issues present?\n",
        "\n",
        "2. Are there any fields that are challenging to understand?\n",
        "\n",
        "    * The BARCODE field was initially set as a float, which displayed in scientific notation, making it difficult to read. I converted it to a string format for better clarity.\n",
        "    * There are 61 rows where the AGE is recorded as greater than 100, representing 0.06% of the dataset.\n",
        "    * Date fields were standardized and converted to proper date formats to ensure consistency across the dataset.\n",
        "    * Duplicate rows were removed from both the transaction and user datasets to maintain data integrity.\n",
        "    * I identified 94 records where the scan date occurred before the receipt date, and these records were removed to correct the data.\n",
        "    * There are instances where the FINAL_QUANTITY is 0 for certain sales, which may be affecting the sales calculations.\n",
        "\n",
        "\n",
        "\n",
        "---\n",
        "\n",
        "\n",
        "\n",
        "\n",
        "\n"
      ],
      "metadata": {
        "id": "gGe_GDjL-bJV"
      }
    },
    {
      "cell_type": "markdown",
      "source": [
        "## **F. EMAIL**"
      ],
      "metadata": {
        "id": "vUiNJ4d1VpRS"
      }
    },
    {
      "cell_type": "markdown",
      "source": [
        "**Subject: Data Quality and Insights based on FETCH data**\n",
        "\n",
        "Hi,\n",
        "\n",
        "I wanted to share some key findings from the recent data analysis and highlight a few points that might require your attention.\n",
        "\n",
        "**Key Data Quality Issues:**\n",
        "* **AGE > 100**: There are 61 rows where the AGE is recorded as greater than 100, representing 0.06% of the dataset. I’ve removed these records for now to ensure data accuracy, but further validation would be appreciated to confirm this approach.\n",
        "* **BARCODE Field**: The BARCODE field was initially stored as a float, which led to issues with scientific notation and made it hard to read. I’ve converted it to a string format to improve clarity.\n",
        "* **Date Standardization**: Several date fields were not in a consistent format. These have now been standardized to ensure that we have consistent, accurate data for analysis.\n",
        "* **Duplicate Records**: Duplicate rows in both the transaction and user datasets were removed to maintain data integrity.\n",
        "* **Scan Date vs. Receipt Date**: I identified 94 records where the scan date occurred before the receipt date, which I’ve removed to ensure the data is correct.Need your input to validate my assumption.\n",
        "* **Zero Quantity Sales**: There are certain sales transactions where the FINAL_QUANTITY is recorded as 0, which could be affecting our sales figures. To better understand these transactions, is there any additional data or information available that could help us validate these entries? For example, are there any known circumstances (such as cancellations, returns, or errors during data entry) that could explain these zero quantities, or should we treat them as data anomalies to exclude from analysis?\n",
        "\n",
        "**Interesting Trend:**\n",
        "* **Top Brands by Sales**: One interesting trend I noticed is that COCA-COLA is leading in both receipt scans (602) and total sales ($2523.98) among the top brands. This suggests that Coca-Cola has strong visibility and demand in the dataset.We could take advantage of this by offering special promotions or rewards for Coca-Cola purchases. This could encourage more users to engage with the app and scan more receipts. Additionally, understanding which users buy Coca-Cola could help us personalize offers and boost loyalty.\n",
        "\n",
        "**Action Request:**\n",
        "\n",
        "To proceed further I would appreciate your input on the following:\n",
        "\n",
        "* Could you confirm if there are any specific requirements for how sales with FINAL_QUANTITY = 0 should be handled?\n",
        "* Would it be helpful to explore any additional data sources or account for any specific business rules that might affect the data, such as promotional sales or discounts?\n",
        "* Your insights will help us resolve any remaining issues and ensure that the analysis is aligned with your team's needs.\n",
        "\n",
        "Looking forward to your thoughts!\n",
        "\n",
        "Best regards,\n",
        "\n",
        "Barani"
      ],
      "metadata": {
        "id": "CSO31ogZVuXI"
      }
    }
  ]
}